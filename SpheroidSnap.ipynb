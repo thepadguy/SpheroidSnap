{
  "nbformat": 4,
  "nbformat_minor": 0,
  "metadata": {
    "colab": {
      "provenance": []
    },
    "kernelspec": {
      "name": "python3",
      "display_name": "Python 3"
    },
    "language_info": {
      "name": "python"
    }
  },
  "cells": [
    {
      "cell_type": "markdown",
      "source": [
        "# **SpheroidSnap**\n",
        "\n",
        "**SpheroidSnap** is a script written in Python that analyzes the geometry of spheroids from photographs taken from an optical microscope (even with a regular smartphone through the lens!).\n",
        "\n",
        "Utilizing publicly available python libraries such as [_scikit-image_](https://scikit-image.org/), [_numpy_](https://numpy.org), [_scipy_](https://scipy.org/), [_shapely_](https://github.com/shapely/shapely), etc. **SpheroidSnap** detects spheroids in your photos and calculates their **perimeter**, **area**, **circularity** and **quantifies** their likeness to a regular polygon in a quick and efficient way, while also giving you the option to output computed data to _.json_ file for further processing."
      ],
      "metadata": {
        "id": "iiKwdltj9QWu"
      }
    },
    {
      "cell_type": "markdown",
      "source": [
        "## Workings\n",
        "Having [_scikit-image_](https://scikit-image.org/) as its main processing unit, **SpheroidSnap** reads the image specified by the user and turns it to **HSV colorspace**, where it applies a **triangle threshold** to the **saturation** channel, thus creating a mask that removes the white background from the spheroids. Afterwards, it detects **closed contours** on the masked image and guides the user on how to select only those that need to be studied and aren't noise.\n",
        "\n",
        "In the next step, the **convex hull** of each selected **contour** is generated and analyzed with both [_scipy_](https://scipy.org/) and [_shapely_](https://github.com/shapely/shapely) modules. The analysis contains the calculation of the **perimeter**, **area**, **number of sides**, **centroid coordinates** and **circularity** via the **Polsby-Popper algorithm**.\n",
        "\n",
        "Assuming that one of the forementioned **convex hulls** is an _irregular polygon_ with _n_ sides, then, if it was a _regular n-gon_, the area of all the triangles formed by joining the centroid to the vertices of each edge, would be equal with one another and with the total area divided by the number of sides. Thus, the mean and median of the distribution of those _fractional_ areas would be equal to _total area / n_. Based on this fact, **SpheroidSnap** computes the _\"area distribution\"_ for each **convex hull** and performs a **One sample Wilcoxon Signed Rank test** for the null hypothesis that the median of the difference of the _computed \"area distribution\"_ and the _\"area distribution\" of a regular n-gon_ (with _n_ less than or equal to the number of sides of the hull) is zero.\n",
        "\n",
        "Finally, using [_matplotlib_](https://matplotlib.org) and [_seaborn_](https://seaborn.pydata.org/), **SpheroidSnap** presents the results to the user, in a concise and friendly interface, while also providing the option to save all generated results to a _.json_ file, using the eponymous Python module."
      ],
      "metadata": {
        "id": "2AAtiL1s-SpX"
      }
    },
    {
      "cell_type": "markdown",
      "source": [
        "## Credits\n",
        "**SpheroidSnap** was developed by undergraduates at the **University of Thessaly's Department of Veterinary Medicine** and is **free** to use in any way that promotes science and learning, as long as you cite the [github repository](https://github.com/thepadguy/SpheroidSnap) it resides in."
      ],
      "metadata": {
        "id": "wf1K0wDrBAd8"
      }
    },
    {
      "cell_type": "markdown",
      "source": [
        "## The program\n",
        "To run **SpheroidSnap** on the go, download this file and run it on **Google Colab** (there are instruction on Google on how to do this). Along with uploading this file, upload the image you want to analyze in the same folder. Keep in mind that you might need to erase old analyzed images if the **Google Colab** space is full.\n",
        "\n",
        "Afterwards, run every cell consecutively and follow the instructions it shows. Keep in mind that you may need to manually install some packages using the command \"%pip install packagename\"."
      ],
      "metadata": {
        "id": "VtW9biC1BU-E"
      }
    },
    {
      "cell_type": "code",
      "source": [
        "%pip install ipympl\n",
        "\n",
        "from google.colab import files\n",
        "from google.colab import output\n",
        "from io import BytesIO\n",
        "from matplotlib.backend_bases import MouseButton\n",
        "from rich import box, print\n",
        "from rich.console import Console\n",
        "from rich.panel import Panel\n",
        "from rich.table import Table\n",
        "from rich.text import Text\n",
        "import ipympl\n",
        "%matplotlib widget\n",
        "import json\n",
        "import matplotlib.pyplot as plt\n",
        "import numpy as np\n",
        "import scipy\n",
        "import seaborn as sns\n",
        "import shapely\n",
        "import skimage as ski"
      ],
      "metadata": {
        "id": "1NdEVbCXCBDw"
      },
      "execution_count": null,
      "outputs": []
    },
    {
      "cell_type": "code",
      "source": [
        "main_console = Console(style=\"bold green\")\n",
        "second_console = Console(style=\"green\")\n",
        "error_console = Console(style=\"bold red\")\n",
        "info_console = Console(style=\"black on white\")\n",
        "table_console = Console()\n",
        "output.enable_custom_widget_manager()\n",
        "\n",
        "points_to_keep = []\n",
        "def on_click_keep(event):\n",
        "    if event.button is MouseButton.RIGHT:\n",
        "        points_to_keep.append(shapely.Point([event.xdata, event.ydata]))\n",
        "    return\n",
        "\n",
        "points_to_remove = []\n",
        "def on_click_remove(event):\n",
        "    if event.button is MouseButton.RIGHT:\n",
        "        points_to_remove.append(shapely.Point([event.xdata, event.ydata]))\n",
        "    return\n",
        "\n",
        "def get_polygon_data(event):\n",
        "    if event.button is MouseButton.RIGHT:\n",
        "        click_point = shapely.Point([event.xdata, event.ydata])\n",
        "        chosen_polygon = None\n",
        "        polygon_number = -1\n",
        "        for polygon in convex_hulls_polygons:\n",
        "            if click_point.within(polygon):\n",
        "                chosen_polygon = polygon\n",
        "                polygon_number = convex_hulls_polygons.index(chosen_polygon)+1\n",
        "                break\n",
        "        if chosen_polygon == None:\n",
        "            error_console.print(\"[!] Please pick a point INSIDE a shape.\")\n",
        "            return\n",
        "        else:\n",
        "            polygon_key = chosen_polygon.wkb\n",
        "\n",
        "            table = Table(title=\"DATA [1/2]\", style=\"black on white\", box=box.DOUBLE_EDGE)\n",
        "            table.add_column(\"Property\", justify=\"center\", style=\"black on white\")\n",
        "            table.add_column(\"Value\", justify=\"center\", style=\"black on white\")\n",
        "\n",
        "            table.add_row(\"Num. of sides\", str(polygon_data_dict[polygon_key]['sides']))\n",
        "            table.add_row(\"Perimeter\", str(polygon_data_dict[polygon_key]['perimeter']))\n",
        "            table.add_row(\"Area\", str(polygon_data_dict[polygon_key]['area']))\n",
        "            table.add_row(\"Polsby-Popper test\", str(polygon_data_dict[polygon_key]['Polsby-Popper']))\n",
        "            table_console.print(table, justify=\"center\")\n",
        "\n",
        "            table1 = Table(title=\"DATA[2/2]\", style=\"black on white\", box=box.DOUBLE_EDGE)\n",
        "            table1.add_column(\"Regular n-gon\", justify=\"center\", style=\"black on white\")\n",
        "            table1.add_column(\"1-sample Wilcoxon signed rank statistic\", justify=\"center\", style=\"black on white\")\n",
        "            table1.add_column(\"p value\", justify=\"center\", style=\"black on white\")\n",
        "\n",
        "            similarity_vector = polygon_data_dict[polygon_key]['similarity_vector']\n",
        "            for i in range(len(similarity_vector)):\n",
        "                table1.add_row(str(i+3), str(similarity_vector[i][0]), str(similarity_vector[i][1]))\n",
        "            table_console.print(table1, justify=\"center\")\n",
        "\n",
        "            fig1, ax1 = plt.subplots(3,1)\n",
        "            fig1.set_tight_layout(True)\n",
        "            fig1.canvas.manager.set_window_title(\"Polygon #{n}\".format(n=polygon_number))\n",
        "            ax1[0].set_title(\"Right triangle area distribution\")\n",
        "            sns.histplot(sub_areas, ax=ax1[0], kde=True)\n",
        "            ax1[1].set_title(\"Wilcoxon statistic\")\n",
        "            ax1[1].plot(np.arange(3, len(similarity_vector)+3), similarity_vector[:,0]) #+3 because we want to count from 3 on the x-axis\n",
        "            ax1[2].set_title(\"Wilcoxon p-value\")\n",
        "            ax1[2].plot(np.arange(3, len(similarity_vector)+3), similarity_vector[:,1])\n",
        "            plt.show()"
      ],
      "metadata": {
        "id": "wmBVWVsADfZs"
      },
      "execution_count": null,
      "outputs": []
    },
    {
      "cell_type": "code",
      "source": [
        "sub_text = Text(\"v1.0\", style=\"dim green on black\")\n",
        "title_text = Text(\"https://github.com/thepadguy/SpheroidSnap\", style=\"dim green on black\")\n",
        "print(Panel(Text(\"SpheroidSnap\", justify=\"center\"), style=\"bold green on black\", box=box.DOUBLE_EDGE, subtitle=sub_text, subtitle_align=\"center\", title=title_text, title_align=\"center\"))\n",
        "\n",
        "main_console.print(\"[WELCOME] Please use only png images and follow instructions.\")\n",
        "main_console.print(\"[UPLOAD] your image please.\")\n",
        "images = files.upload()\n",
        "path = input(\"[INPUT] image path and press Enter: \")"
      ],
      "metadata": {
        "id": "oRWmSyJNDjUC"
      },
      "execution_count": null,
      "outputs": []
    },
    {
      "cell_type": "code",
      "source": [
        "image = ski.io.imread(path)\n",
        "main_console.print(\"[+] Read image.\")\n",
        "channels = image.shape[2]\n",
        "if channels > 3:\n",
        "    error_console.print(\"\\t[-] Image has {c} channels, reducing them to 3\".format(c=channels))\n",
        "    image = image[:,:,:3]\n",
        "fig, ax = plt.subplots()\n",
        "fig.canvas.manager.set_window_title(\"Original image\")\n",
        "ski.io.imshow(image)\n",
        "ax.axis('off')\n",
        "plt.show()"
      ],
      "metadata": {
        "id": "OLd6LDMdDnBJ"
      },
      "execution_count": null,
      "outputs": []
    },
    {
      "cell_type": "code",
      "source": [
        "#STEP 1 - Image to hsv\n",
        "main_console.print(\"[+] Transforming RGB --> HSV\")\n",
        "hsv_image = ski.color.rgb2hsv(image)\n",
        "saturation_channel = hsv_image[:,:,1]\n",
        "fig, ax = plt.subplots()\n",
        "fig.canvas.manager.set_window_title(\"Saturation channel\")\n",
        "ax.imshow(saturation_channel, cmap=plt.cm.gray)\n",
        "ax.axis('off')\n",
        "plt.show()"
      ],
      "metadata": {
        "id": "BMGgzrS8DpmO"
      },
      "execution_count": null,
      "outputs": []
    },
    {
      "cell_type": "code",
      "source": [
        "#STEP 2 - Triangle threshold\n",
        "main_console.print(\"[+] Thresholding\")\n",
        "thresh = ski.filters.threshold_triangle(saturation_channel)\n",
        "binary_image = saturation_channel >= thresh\n",
        "masked_image = np.stack((image[:,:,0]*binary_image, image[:,:,1]*binary_image, image[:,:,2]*binary_image), axis=-1)\n",
        "fig, ax = plt.subplots()\n",
        "fig.canvas.manager.set_window_title(\"Thresholded image\")\n",
        "ax.imshow(masked_image)\n",
        "ax.axis('off')\n",
        "plt.show()\n"
      ],
      "metadata": {
        "id": "A6pl_0sYDrj6"
      },
      "execution_count": null,
      "outputs": []
    },
    {
      "cell_type": "code",
      "source": [
        "#STEP 3 - Find contours\n",
        "main_console.print(\"[+] Finding contours\")\n",
        "contours = ski.measure.find_contours(binary_image)\n",
        "contour_polygons = [shapely.Polygon(np.array([i[:,1], i[:,0]]).T) for i in contours] #here they are in format (x,y) and not in (y,x) anymore\n",
        "\n",
        "second_console.print(\"[1/2] Right click inside the contour that you want to keep.\", style=\"green\")\n",
        "second_console.print(\"\\tPlease try to click in the center of said contour and preferably not in a point that is 'nested' in an unwanted contour.\")\n",
        "fig, ax = plt.subplots()\n",
        "fig.canvas.manager.set_window_title(\"All contours\")\n",
        "ax.imshow(masked_image)\n",
        "ax.axis('off')\n",
        "for contour in contours:\n",
        "    #contours are in form y,x\n",
        "    ax.plot(contour[:,1], contour[:,0], linewidth=2)\n",
        "binding_id = plt.connect('button_press_event', on_click_keep)\n",
        "plt.show()"
      ],
      "metadata": {
        "id": "DUwcOGBEDwIL"
      },
      "execution_count": null,
      "outputs": []
    },
    {
      "cell_type": "code",
      "source": [
        "main_console.print(\"\\t[+] Filtering contours.\")\n",
        "contour_polygons_to_keep = []\n",
        "contours_to_keep = []\n",
        "for point in points_to_keep:\n",
        "    for i in range(len(contour_polygons)):\n",
        "        polygon = contour_polygons[i]\n",
        "        if not(polygon in contour_polygons_to_keep) and (point.within(polygon)):\n",
        "            contour_polygons_to_keep.append(polygon)\n",
        "            contours_to_keep.append(contours[i])    #for plotting reasons only\n",
        "second_console.print(\"[2/2] Right click inside ONLY of the contours that you want to discard.\")\n",
        "fig, ax = plt.subplots()\n",
        "fig.canvas.manager.set_window_title(\"Contour selection\")\n",
        "ax.imshow(masked_image)\n",
        "ax.axis('off')\n",
        "for contour in contours_to_keep:\n",
        "    ax.plot(contour[:,1], contour[:,0], linewidth=2)\n",
        "binding_id = plt.connect('button_press_event', on_click_remove)\n",
        "plt.show()"
      ],
      "metadata": {
        "id": "zLptzkLmDxYa"
      },
      "execution_count": null,
      "outputs": []
    },
    {
      "cell_type": "code",
      "source": [
        "main_console.print(\"\\t[+] Filtering contours.\")\n",
        "limit = len(contour_polygons_to_keep)\n",
        "for point in points_to_remove:\n",
        "    i = 0\n",
        "    while i < limit:\n",
        "        polygon = contour_polygons_to_keep[i]\n",
        "        if (point.within(polygon)):\n",
        "            del(contour_polygons_to_keep[i])\n",
        "            del(contours_to_keep[i])   #for plotting reasons only\n",
        "            i -= 1\n",
        "            limit -= 1\n",
        "        i += 1\n",
        "main_console.print(\"[+] You have selected {a} contours.\".format(a=len(contours_to_keep)))\n",
        "fig, ax = plt.subplots()\n",
        "fig.canvas.manager.set_window_title(\"Final selected contour(s)\")\n",
        "ax.imshow(image)\n",
        "ax.axis('off')\n",
        "for contour in contours_to_keep:\n",
        "    ax.plot(contour[:,1], contour[:,0], linewidth=2)\n",
        "plt.show()"
      ],
      "metadata": {
        "id": "3_7rGgI_D1R-"
      },
      "execution_count": null,
      "outputs": []
    },
    {
      "cell_type": "code",
      "source": [
        "#STEP 4 - Convex hull of contours\n",
        "#made using scipy and then passed to shapely for ease of use\n",
        "main_console.print(\"[+] Calculating convex hulls\")\n",
        "\n",
        "#attempting calculation via shapely\n",
        "convex_hulls_polygons = []\n",
        "convex_hulls_vertices = []\n",
        "for polygon in contour_polygons_to_keep:\n",
        "    hull = polygon.convex_hull\n",
        "    boundary_xy = hull.boundary.xy\n",
        "    vertices = np.array(list(zip(boundary_xy[0], boundary_xy[1])))  #keep in mind that boundary.xy has the starting point twice (beggining and end)\n",
        "    convex_hulls_polygons.append(hull)\n",
        "    convex_hulls_vertices.append(vertices)   #they are in x,y format\n",
        "\n",
        "fig, ax = plt.subplots()\n",
        "fig.canvas.manager.set_window_title(\"Convex hulls\")\n",
        "ax.imshow(image)\n",
        "ax.axis('off')\n",
        "for hull in convex_hulls_vertices:\n",
        "    ax.plot(hull[:,0], hull[:,1], linewidth=2)\n",
        "plt.show()\n"
      ],
      "metadata": {
        "id": "TiE6jikWD4tO"
      },
      "execution_count": null,
      "outputs": []
    },
    {
      "cell_type": "code",
      "source": [
        "#STEP 5 - Statistical analysis\n",
        "#for each convex hull polygon create dictionary with key the wkb and as elements\n",
        "#another dict with the following elements in this exact order:\n",
        "#perimeter, area, number of sides, centroid, Polsby-Popper test, sub_areas, similarity vector (will be explained later)\n",
        "\n",
        "main_console.print(\"[+] Analyzing data...\")\n",
        "polygon_data_dict = {}\n",
        "for polygon in convex_hulls_polygons:\n",
        "    polygon_key = polygon.wkb\n",
        "    centroid = polygon.centroid\n",
        "    #-1 on number of sides, because boundary has the starting point twice\n",
        "    polygon_data_dict[polygon_key] = {'perimeter': polygon.length, 'area': polygon.area, 'sides': len(polygon.boundary.xy[0])-1 ,'centroid': np.array([centroid.x, centroid.y]), 'Polsby-Popper': (polygon.area*4*np.pi)/(polygon.length**2)}\n",
        "main_console.print(\"[+] Computing shape data...\")\n",
        "for i in range(len(convex_hulls_polygons)):\n",
        "    polygon_key = convex_hulls_polygons[i].wkb\n",
        "    sides = polygon_data_dict[polygon_key]['sides']\n",
        "    centroid = polygon_data_dict[polygon_key]['centroid']\n",
        "    area = polygon_data_dict[polygon_key]['area']\n",
        "    vertices = convex_hulls_vertices[i]\n",
        "\n",
        "    sub_areas = []\n",
        "    j = 1\n",
        "    k = 0   #this works because vertices is generated from the boundary.xy function that starts and ends with the same point\n",
        "    while j < len(vertices):\n",
        "        sub_areas.append(shapely.Polygon([vertices[j], vertices[k], centroid]).area/area)\n",
        "        j += 1\n",
        "        k += 1\n",
        "    sub_areas = np.array(sub_areas)\n",
        "    polygon_data_dict[polygon_key]['sub_areas'] = sub_areas\n",
        "\n",
        "    statistics = []\n",
        "    for m in range(3, sides+1):\n",
        "        #one sample wilcoxon signed rank test, that checks whether the median is\n",
        "        #equal to the median of a regular polygon's sub_areas distr, with m sides\n",
        "        temp = scipy.stats.wilcoxon(sub_areas-1/m)\n",
        "        statistics.append(np.array([temp.statistic, temp.pvalue]))\n",
        "    polygon_data_dict[polygon_key]['similarity_vector'] = np.array(statistics)\n",
        "\n",
        "#STEP 6 - Presenting the data\n",
        "#the user can click on a contour to get this contour's data\n",
        "main_console.print(\"[+] Right click inside a shape to get data about it. You can close the image to get cumulative data about all the shapes.\")\n",
        "\n",
        "fig, ax = plt.subplots()\n",
        "fig.canvas.manager.set_window_title(\"Pick a shape\")\n",
        "ax.imshow(image)\n",
        "ax.axis('off')\n",
        "for hull in convex_hulls_vertices:\n",
        "    ax.plot(hull[:,0], hull[:,1], linewidth=2)\n",
        "binding_id = plt.connect('button_press_event', get_polygon_data)\n",
        "plt.show()"
      ],
      "metadata": {
        "id": "hw5T3-_sD9oC"
      },
      "execution_count": null,
      "outputs": []
    },
    {
      "cell_type": "code",
      "source": [
        "main_console.print(\"[+] Computing cumulative statistics...\")\n",
        "perimeters = []\n",
        "areas = []\n",
        "statistics = []\n",
        "pvalues = []\n",
        "for dictionary in list(polygon_data_dict.values()):\n",
        "    perimeters.append(dictionary['perimeter'])\n",
        "    areas.append(dictionary['area'])\n",
        "    statistics.append(dictionary['similarity_vector'][:,0])\n",
        "    pvalues.append(dictionary['similarity_vector'][:,1])\n",
        "\n",
        "fig, ax = plt.subplots(2,2)\n",
        "fig.set_tight_layout(True)\n",
        "fig.canvas.manager.set_window_title(\"Cumulative stats\")\n",
        "ax[0][0].set_title(\"Perimeters (n={c})\".format(c=len(perimeters)))\n",
        "sns.histplot(perimeters, ax=ax[0][0], kde=True)\n",
        "ax[0][1].set_title(\"Areas (n={c})\".format(c=len(areas)))\n",
        "sns.histplot(areas, ax=ax[0][1], kde=True)\n",
        "ax[1][0].set_title(\"Wilcoxon stat.\")\n",
        "for stat in statistics:\n",
        "    ax[1][0].plot(np.arange(3, len(stat)+3), stat)\n",
        "ax[1][1].set_title(\"Wilcoxon p-val.\")\n",
        "for pval in pvalues:\n",
        "    ax[1][1].plot(np.arange(3, len(pval)+3), pval)\n",
        "colormap = plt.cm.jet\n",
        "colors = [colormap(i) for i in np.linspace(0,1,len(ax[1][0].lines))]\n",
        "for i, j in enumerate(ax[1][0].lines):\n",
        "    j.set_color(colors[i])\n",
        "for i, j in enumerate(ax[1][1].lines):\n",
        "    j.set_color(colors[i])\n",
        "plt.show()\n",
        "\n",
        "confirmation = input(\"[Y/N] save stats to file? \")"
      ],
      "metadata": {
        "id": "qmw763j1ECt-"
      },
      "execution_count": null,
      "outputs": []
    },
    {
      "cell_type": "code",
      "source": [
        "if confirmation.strip().lower() == 'y':\n",
        "    main_console.print(\"[+] Writing polygon data to file (out_polygons.json)...\")\n",
        "    filename = \"out_polygons.json\"\n",
        "    keys = []\n",
        "    values = []\n",
        "    for idx, val in enumerate(list(polygon_data_dict.keys())):\n",
        "        keys.append(\"POLYGON #{n}\".format(n=idx+1))\n",
        "        temp_dict = polygon_data_dict[val]\n",
        "        values.append({'Perimeter':temp_dict['perimeter'], 'Area':temp_dict['area'], 'Sides':temp_dict['sides'], 'Centroid':temp_dict['centroid'].tolist(), 'Polsby-Popper':temp_dict['Polsby-Popper'], 'sub_areas':temp_dict['sub_areas'].tolist(), 'similarity_vector':temp_dict['similarity_vector'].tolist()})\n",
        "    out_dict = dict(zip(keys, values))\n",
        "    obj = json.dumps(out_dict, indent=4)\n",
        "    with open(filename, 'w+') as f:\n",
        "        f.write(obj)\n",
        "        f.close()\n",
        "\n",
        "    main_console.print(\"[+] Writing cumulative data to file (out_cumulative.json)...\")\n",
        "    filename = \"out_cumulative.json\"\n",
        "    keys = ['Perimeters', 'Areas', 'Statistics', 'P-values']\n",
        "    values = [perimeters, areas, [i.tolist() for i in statistics], [i.tolist() for i in pvalues]]\n",
        "    out_dict = dict(zip(keys, values))\n",
        "    obj = json.dumps(out_dict, indent=4)\n",
        "    with open(filename, 'w+') as f:\n",
        "        f.write(obj)\n",
        "        f.close()\n",
        "    main_console.print(\"[+] Written data to appropriate files.\")"
      ],
      "metadata": {
        "id": "NsZlaTmbEFGJ"
      },
      "execution_count": null,
      "outputs": []
    }
  ]
}
